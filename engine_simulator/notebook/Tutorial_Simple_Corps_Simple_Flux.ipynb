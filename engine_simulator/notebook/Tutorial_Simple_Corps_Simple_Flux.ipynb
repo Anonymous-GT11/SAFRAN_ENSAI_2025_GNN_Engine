{
  "cells": [
    {
      "cell_type": "code",
      "source": [
        "!git clone https://github.com/Anonymous-GT11/SAFRAN_ENSAI_2025"
      ],
      "metadata": {
        "colab": {
          "base_uri": "https://localhost:8080/"
        },
        "id": "lLT99FlpSFG4",
        "outputId": "15fa6e39-9950-4075-d250-c5e4cc3c5543"
      },
      "execution_count": 2,
      "outputs": [
        {
          "output_type": "stream",
          "name": "stdout",
          "text": [
            "Cloning into 'SAFRAN_ENSAI_2025'...\n",
            "remote: Enumerating objects: 68, done.\u001b[K\n",
            "remote: Counting objects:   1% (1/68)\u001b[K\rremote: Counting objects:   2% (2/68)\u001b[K\rremote: Counting objects:   4% (3/68)\u001b[K\rremote: Counting objects:   5% (4/68)\u001b[K\rremote: Counting objects:   7% (5/68)\u001b[K\rremote: Counting objects:   8% (6/68)\u001b[K\rremote: Counting objects:  10% (7/68)\u001b[K\rremote: Counting objects:  11% (8/68)\u001b[K\rremote: Counting objects:  13% (9/68)\u001b[K\rremote: Counting objects:  14% (10/68)\u001b[K\rremote: Counting objects:  16% (11/68)\u001b[K\rremote: Counting objects:  17% (12/68)\u001b[K\rremote: Counting objects:  19% (13/68)\u001b[K\rremote: Counting objects:  20% (14/68)\u001b[K\rremote: Counting objects:  22% (15/68)\u001b[K\rremote: Counting objects:  23% (16/68)\u001b[K\rremote: Counting objects:  25% (17/68)\u001b[K\rremote: Counting objects:  26% (18/68)\u001b[K\rremote: Counting objects:  27% (19/68)\u001b[K\rremote: Counting objects:  29% (20/68)\u001b[K\rremote: Counting objects:  30% (21/68)\u001b[K\rremote: Counting objects:  32% (22/68)\u001b[K\rremote: Counting objects:  33% (23/68)\u001b[K\rremote: Counting objects:  35% (24/68)\u001b[K\rremote: Counting objects:  36% (25/68)\u001b[K\rremote: Counting objects:  38% (26/68)\u001b[K\rremote: Counting objects:  39% (27/68)\u001b[K\rremote: Counting objects:  41% (28/68)\u001b[K\rremote: Counting objects:  42% (29/68)\u001b[K\rremote: Counting objects:  44% (30/68)\u001b[K\rremote: Counting objects:  45% (31/68)\u001b[K\rremote: Counting objects:  47% (32/68)\u001b[K\rremote: Counting objects:  48% (33/68)\u001b[K\rremote: Counting objects:  50% (34/68)\u001b[K\rremote: Counting objects:  51% (35/68)\u001b[K\rremote: Counting objects:  52% (36/68)\u001b[K\rremote: Counting objects:  54% (37/68)\u001b[K\rremote: Counting objects:  55% (38/68)\u001b[K\rremote: Counting objects:  57% (39/68)\u001b[K\rremote: Counting objects:  58% (40/68)\u001b[K\rremote: Counting objects:  60% (41/68)\u001b[K\rremote: Counting objects:  61% (42/68)\u001b[K\rremote: Counting objects:  63% (43/68)\u001b[K\rremote: Counting objects:  64% (44/68)\u001b[K\rremote: Counting objects:  66% (45/68)\u001b[K\rremote: Counting objects:  67% (46/68)\u001b[K\rremote: Counting objects:  69% (47/68)\u001b[K\rremote: Counting objects:  70% (48/68)\u001b[K\rremote: Counting objects:  72% (49/68)\u001b[K\rremote: Counting objects:  73% (50/68)\u001b[K\rremote: Counting objects:  75% (51/68)\u001b[K\rremote: Counting objects:  76% (52/68)\u001b[K\rremote: Counting objects:  77% (53/68)\u001b[K\rremote: Counting objects:  79% (54/68)\u001b[K\rremote: Counting objects:  80% (55/68)\u001b[K\rremote: Counting objects:  82% (56/68)\u001b[K\rremote: Counting objects:  83% (57/68)\u001b[K\rremote: Counting objects:  85% (58/68)\u001b[K\rremote: Counting objects:  86% (59/68)\u001b[K\rremote: Counting objects:  88% (60/68)\u001b[K\rremote: Counting objects:  89% (61/68)\u001b[K\rremote: Counting objects:  91% (62/68)\u001b[K\rremote: Counting objects:  92% (63/68)\u001b[K\rremote: Counting objects:  94% (64/68)\u001b[K\rremote: Counting objects:  95% (65/68)\u001b[K\rremote: Counting objects:  97% (66/68)\u001b[K\rremote: Counting objects:  98% (67/68)\u001b[K\rremote: Counting objects: 100% (68/68)\u001b[K\rremote: Counting objects: 100% (68/68), done.\u001b[K\n",
            "remote: Compressing objects: 100% (63/63), done.\u001b[K\n",
            "remote: Total 68 (delta 9), reused 0 (delta 0), pack-reused 0 (from 0)\u001b[K\n",
            "Receiving objects: 100% (68/68), 1.09 MiB | 12.02 MiB/s, done.\n",
            "Resolving deltas: 100% (9/9), done.\n"
          ]
        }
      ]
    },
    {
      "cell_type": "code",
      "source": [
        "# Verify that we have sucessfully clone the repo and go the place where the repo is stored\n",
        "%cd /content/SAFRAN_ENSAI_2025\n",
        "!ls"
      ],
      "metadata": {
        "id": "_3p0MD_0SZr4",
        "outputId": "8fee8dc6-42e6-41cb-c5d2-c11ae1b1a619",
        "colab": {
          "base_uri": "https://localhost:8080/"
        }
      },
      "execution_count": 6,
      "outputs": [
        {
          "output_type": "stream",
          "name": "stdout",
          "text": [
            "/content/SAFRAN_ENSAI_2025\n",
            "Cie_0_Engine0.csv\tperformancemodel_ENSAI.zip\n",
            "performancemodel_ENSAI\tREADME.md\n"
          ]
        }
      ]
    },
    {
      "cell_type": "code",
      "source": [
        "# install the package performance_model\n",
        "%cd /content/SAFRAN_ENSAI_2025/performancemodel_ENSAI/\n",
        "!pip install .\n"
      ],
      "metadata": {
        "id": "HVaC9ASbTGqw",
        "outputId": "4fb435f9-41fb-48b3-ae6e-6b788a34fd71",
        "colab": {
          "base_uri": "https://localhost:8080/"
        }
      },
      "execution_count": 8,
      "outputs": [
        {
          "output_type": "stream",
          "name": "stdout",
          "text": [
            "/content/SAFRAN_ENSAI_2025/performancemodel_ENSAI\n",
            "Processing /content/SAFRAN_ENSAI_2025/performancemodel_ENSAI\n",
            "  Installing build dependencies ... \u001b[?25l\u001b[?25hdone\n",
            "  Getting requirements to build wheel ... \u001b[?25l\u001b[?25hdone\n",
            "  Preparing metadata (pyproject.toml) ... \u001b[?25l\u001b[?25hdone\n",
            "Requirement already satisfied: matplotlib in /usr/local/lib/python3.12/dist-packages (from performancemodel==0.0.1) (3.10.0)\n",
            "Requirement already satisfied: numpy in /usr/local/lib/python3.12/dist-packages (from performancemodel==0.0.1) (2.0.2)\n",
            "Requirement already satisfied: pandas in /usr/local/lib/python3.12/dist-packages (from performancemodel==0.0.1) (2.2.2)\n",
            "Requirement already satisfied: plotly in /usr/local/lib/python3.12/dist-packages (from performancemodel==0.0.1) (5.24.1)\n",
            "Requirement already satisfied: scipy in /usr/local/lib/python3.12/dist-packages (from performancemodel==0.0.1) (1.16.2)\n",
            "Requirement already satisfied: sympy in /usr/local/lib/python3.12/dist-packages (from performancemodel==0.0.1) (1.13.3)\n",
            "Requirement already satisfied: contourpy>=1.0.1 in /usr/local/lib/python3.12/dist-packages (from matplotlib->performancemodel==0.0.1) (1.3.3)\n",
            "Requirement already satisfied: cycler>=0.10 in /usr/local/lib/python3.12/dist-packages (from matplotlib->performancemodel==0.0.1) (0.12.1)\n",
            "Requirement already satisfied: fonttools>=4.22.0 in /usr/local/lib/python3.12/dist-packages (from matplotlib->performancemodel==0.0.1) (4.60.1)\n",
            "Requirement already satisfied: kiwisolver>=1.3.1 in /usr/local/lib/python3.12/dist-packages (from matplotlib->performancemodel==0.0.1) (1.4.9)\n",
            "Requirement already satisfied: packaging>=20.0 in /usr/local/lib/python3.12/dist-packages (from matplotlib->performancemodel==0.0.1) (25.0)\n",
            "Requirement already satisfied: pillow>=8 in /usr/local/lib/python3.12/dist-packages (from matplotlib->performancemodel==0.0.1) (11.3.0)\n",
            "Requirement already satisfied: pyparsing>=2.3.1 in /usr/local/lib/python3.12/dist-packages (from matplotlib->performancemodel==0.0.1) (3.2.5)\n",
            "Requirement already satisfied: python-dateutil>=2.7 in /usr/local/lib/python3.12/dist-packages (from matplotlib->performancemodel==0.0.1) (2.9.0.post0)\n",
            "Requirement already satisfied: pytz>=2020.1 in /usr/local/lib/python3.12/dist-packages (from pandas->performancemodel==0.0.1) (2025.2)\n",
            "Requirement already satisfied: tzdata>=2022.7 in /usr/local/lib/python3.12/dist-packages (from pandas->performancemodel==0.0.1) (2025.2)\n",
            "Requirement already satisfied: tenacity>=6.2.0 in /usr/local/lib/python3.12/dist-packages (from plotly->performancemodel==0.0.1) (8.5.0)\n",
            "Requirement already satisfied: mpmath<1.4,>=1.1.0 in /usr/local/lib/python3.12/dist-packages (from sympy->performancemodel==0.0.1) (1.3.0)\n",
            "Requirement already satisfied: six>=1.5 in /usr/local/lib/python3.12/dist-packages (from python-dateutil>=2.7->matplotlib->performancemodel==0.0.1) (1.17.0)\n",
            "Building wheels for collected packages: performancemodel\n",
            "  Building wheel for performancemodel (pyproject.toml) ... \u001b[?25l\u001b[?25hdone\n",
            "  Created wheel for performancemodel: filename=performancemodel-0.0.1-py3-none-any.whl size=30485 sha256=4439179aeac1d9e8f6141b09e92b1ad752b7b34bfe94c2711657c8cad11c84c7\n",
            "  Stored in directory: /tmp/pip-ephem-wheel-cache-at4idhq6/wheels/b4/6e/66/25433221b4a4d2ead6faf834b0fa81054260e4a8996e629ab9\n",
            "Successfully built performancemodel\n",
            "Installing collected packages: performancemodel\n",
            "Successfully installed performancemodel-0.0.1\n"
          ]
        }
      ]
    },
    {
      "cell_type": "code",
      "execution_count": 11,
      "metadata": {
        "id": "XvyYMiT4R0qf"
      },
      "outputs": [],
      "source": [
        "import numpy as np\n",
        "\n",
        "from performancemodel.turboreactors import SimpleCorpsSimpleFlux_Design, SimpleCorpsSimpleFlux_degrad_n_ratio_beta\n",
        "\n",
        "from performancemodel.base_system import h_SCSF\n",
        "\n",
        "from performancemodel.scenarios import Scenario"
      ]
    },
    {
      "cell_type": "markdown",
      "metadata": {
        "id": "qBKewZQNR0qh"
      },
      "source": [
        "# Design Turboreactor"
      ]
    },
    {
      "cell_type": "markdown",
      "metadata": {
        "id": "qkbnFJ21R0qi"
      },
      "source": [
        "We first present a simple turboreactor with all equations and values set by design. The Simple Corps Simple Flux turboreactor has 3 modules that have an impact on the temperature and pressure of the air coming through the engine:\n",
        "1. A compressor\n",
        "2. Combustion chamber\n",
        "3. HP Turbine\n",
        "\n",
        "We also have a fan and a nozzle but we consider that they do not degrade and do not change from one model to another.\n",
        "\n",
        "We define several plan in the engine, each plan is at the entry or at the exit of a module. At plan 0, 1 and 2, the air goes by without modification in its pressure or temperature.\n",
        "At plan 3, the air was compressed, at plan 4 the air was heated by the combustion chamber and the HP Turbine expanded the air. A plot of the turboreactor can be found in the plot folder of this repo.\n",
        "\n",
        "Every constant or parameters of the engine is fixed inside the methods of the class.\n",
        "\n"
      ]
    },
    {
      "cell_type": "markdown",
      "metadata": {
        "id": "ZIJIVyJoR0qi"
      },
      "source": [
        "We initialize the Turboreactor by design with the class SimpleCorpsSimpleFLux_Design()"
      ]
    },
    {
      "cell_type": "code",
      "execution_count": 12,
      "metadata": {
        "id": "CazLS1AsR0qi"
      },
      "outputs": [],
      "source": [
        "\n",
        "turbo_design = SimpleCorpsSimpleFlux_Design()\n"
      ]
    },
    {
      "cell_type": "markdown",
      "metadata": {
        "id": "zJ-2QmqMR0qj"
      },
      "source": [
        "Then we can compute a pass forward through the engine."
      ]
    },
    {
      "cell_type": "code",
      "execution_count": 13,
      "metadata": {
        "colab": {
          "base_uri": "https://localhost:8080/"
        },
        "id": "RXqqlokPR0qj",
        "outputId": "b3f95a99-ab8b-4ab9-848e-5287cabd5bcc"
      },
      "outputs": [
        {
          "output_type": "stream",
          "name": "stdout",
          "text": [
            "P2 191801.04700911307\n",
            "T2 360.0\n",
            "W4 14.807195600842178\n",
            "W2R 8.743400872860022\n",
            "T3 749.5943981371744\n",
            "T2 360.0\n",
            "T5 1310.4056018628257\n",
            "T5is 1267.1173354031396\n",
            "P4 1822109.946586574\n",
            "P5 651421.7694786084\n",
            "P8 651421.7694786084\n",
            "T8 1310.4056018628257\n",
            "Wf 0.32846050647756403\n"
          ]
        }
      ],
      "source": [
        "turbo_design.pass_forward(verbose=1)"
      ]
    },
    {
      "cell_type": "markdown",
      "metadata": {
        "id": "YjGP8Lu_R0qk"
      },
      "source": [
        "It is also possible to compute plan by plan if we respect the order of the modules. Otherwise there will be errors."
      ]
    },
    {
      "cell_type": "code",
      "execution_count": 14,
      "metadata": {
        "id": "7yOqG-FHR0qk"
      },
      "outputs": [],
      "source": [
        "turbo_design.compute_plan_0()\n",
        "turbo_design.compute_plan_1()\n",
        "turbo_design.compute_plan_2()\n",
        "turbo_design.compute_plan_3()"
      ]
    },
    {
      "cell_type": "markdown",
      "metadata": {
        "id": "BWfODfRtR0qk"
      },
      "source": [
        "Then, we can output and print any variables computed inside the engine."
      ]
    },
    {
      "cell_type": "code",
      "execution_count": 16,
      "metadata": {
        "colab": {
          "base_uri": "https://localhost:8080/"
        },
        "id": "G-xVT-dcR0ql",
        "outputId": "deff6d91-9fea-4c73-e356-e136c6cc3c55"
      },
      "outputs": [
        {
          "output_type": "stream",
          "name": "stdout",
          "text": [
            "1700\n",
            "14.807195600842178\n"
          ]
        }
      ],
      "source": [
        "print(turbo_design.T4)\n",
        "print(turbo_design.W5)"
      ]
    },
    {
      "cell_type": "markdown",
      "metadata": {
        "id": "dgvOuT3ER0ql"
      },
      "source": [
        "# Turboreactor"
      ]
    },
    {
      "cell_type": "markdown",
      "metadata": {
        "id": "guoq7LcsR0ql"
      },
      "source": [
        "The next class of turboreactor have a few more features and can be configured to some extent. There are several differences with the design turboreactor.\n",
        "- The compressor parameters are not fixed, the pressure ratio between entering and exiting air pressure and the efficiency of the compressor is computed thanks to a map.\n",
        "- It is possible to choose a degradation coefficient for the compressor and the turbine. The degradation of the combustion chamber are too small to be considered in this simulator.\n",
        "    - For the compressor, the degradation coefficient will modify the map between air mass flow and pressure ratio / efficiency\n",
        "    - For the turbine, the degradation coefficient will modify the temperature of the air at the exit of the turbine.\n",
        "- We need to specify a power engine parameter N between 0.7 and 1.1 and a degradation coefficient for the compressor.\n",
        "- We need to specify the constant reduced air mass flow at the exit of the compressor W3R. A value between 3 and 5 is a good value because it is in the range of observed value when the system was run with a Wf between 0.5 and 10 for any N.\n",
        "\n",
        "- Since certain parameters are not fixed, we do not know the air mass flow at the entry of the engine, the pressure ratio of the compressor and the operating line of the engine. To calculate these values, the system iterates over the value of a variable named beta which is the operating line of until the system reach an equilibrium and on the fuel flow inside the combustion chamber. That is to say, the reduced air mass flow at the exit of the engine is the same observed at the operating point of our engine, same for the pressure ratio.\n",
        "\n",
        "\n"
      ]
    },
    {
      "cell_type": "code",
      "execution_count": 17,
      "metadata": {
        "id": "yX4JzFDsR0ql"
      },
      "outputs": [],
      "source": [
        "turboreactor = SimpleCorpsSimpleFlux_degrad_n_ratio_beta(N=0.9, degrad_comp=1, degrad_turb=1, W3R_design=4, ratio_design=1100)\n",
        "\n"
      ]
    },
    {
      "cell_type": "markdown",
      "metadata": {
        "id": "DLCrUC6AR0ql"
      },
      "source": [
        "The next line run the simulator and outputs the requested measurements. Requested measurements are any number of the following attributes :\n",
        "\n",
        "- T0, T1, T2, T3, T4, T5, T8 which are the temperature at each plan of the engine (in K)\n",
        "- P0, P1, P2, P3, P4, P5, P8 which are the pressure at each plan of the engine (in bar)\n",
        "- W0, W1, W2, W3, W4, W5, W8 which are the airflow at each plan of the engine (in kg/s)\n",
        "- W2R, W3R, W4R, W5R, W8R which are the corrected airflow at each plan of the engine where it is computed (plan 2 through 8) in (kg/s)\n",
        "- Wf which is the fuel flow in the combustion chamber (in kg/s)\n",
        "- M8 which is the mach of the air at the exit of the nozzle (in % of M1)\n",
        "- F which is the thrust of the engine (in Newton)\n",
        "\n",
        "default is [\"P3\", \"T4\", \"W5R\"].\n",
        "\n",
        "As a reminder, a turboreactor and the position of each plan is available in the plot folder"
      ]
    },
    {
      "cell_type": "code",
      "execution_count": 18,
      "metadata": {
        "id": "iy4EYFSXR0ql"
      },
      "outputs": [],
      "source": [
        "measurements = turboreactor.run()"
      ]
    },
    {
      "cell_type": "code",
      "execution_count": 19,
      "metadata": {
        "colab": {
          "base_uri": "https://localhost:8080/"
        },
        "id": "DCAm5loHR0qm",
        "outputId": "f736dde3-e9d8-4f77-aa81-9f9bb9fa64a0"
      },
      "outputs": [
        {
          "output_type": "execute_result",
          "data": {
            "text/plain": [
              "{'P3': np.float64(1901103.901438072),\n",
              " 'T4': np.float64(1898.4967887508733),\n",
              " 'W5R': np.float64(18.919982964102932)}"
            ]
          },
          "metadata": {},
          "execution_count": 19
        }
      ],
      "source": [
        "measurements\n"
      ]
    },
    {
      "cell_type": "markdown",
      "metadata": {
        "id": "wt4NtUonR0qm"
      },
      "source": [
        "We can also access any of the values once we either used turboreactor.run() or turboreactor.simulator() and then call turboreactor.captor"
      ]
    },
    {
      "cell_type": "code",
      "execution_count": 20,
      "metadata": {
        "colab": {
          "base_uri": "https://localhost:8080/"
        },
        "id": "RZ5TopnRR0qm",
        "outputId": "16dd3610-6b42-4fc2-e6d9-5ffc6ad66747"
      },
      "outputs": [
        {
          "output_type": "stream",
          "name": "stdout",
          "text": [
            "360.0\n",
            "1479.1649937230713\n",
            "4\n"
          ]
        }
      ],
      "source": [
        "print(turboreactor.T0)\n",
        "print(turboreactor.T5)\n",
        "print(turboreactor.W3R)"
      ]
    },
    {
      "cell_type": "markdown",
      "metadata": {
        "id": "RyStWk6NR0qm"
      },
      "source": [
        "We can then play with the different parameters such as power engine (N), and the degradation coefficient degrad_comp and degrad_comb.\n",
        "We recommand to not change too much the W4R parameter as the reduced air flow exiting the combustion chamber as it could lead to out of definition context. But it is still possible to change it to observe how it affects the turboreactor outputs."
      ]
    },
    {
      "cell_type": "code",
      "execution_count": 21,
      "metadata": {
        "id": "4cE1uUy0R0qm"
      },
      "outputs": [],
      "source": [
        "turboreactor_lowN = SimpleCorpsSimpleFlux_degrad_n_ratio_beta(N=0.7)\n",
        "turboreactor_degradedcomp = SimpleCorpsSimpleFlux_degrad_n_ratio_beta(N=0.9, degrad_comp=0.98)\n",
        "turboreactor_degradedturbine = SimpleCorpsSimpleFlux_degrad_n_ratio_beta(N=0.9, degrad_comp=0.98, degrad_turb=0.98)"
      ]
    },
    {
      "cell_type": "markdown",
      "metadata": {
        "id": "eKXNs39TR0qm"
      },
      "source": [
        "### With measurements function\n",
        "\n",
        "We also created a function in the base_system.py called h_SCSF which can be used to directly initialize a turboreactor and compute the measurements.\n",
        "\n",
        "Here one can customize the engine thanks to parameters :\n",
        "- N (engine power) defaults to 0.9 but can vary between 0.7 and 1.1\n",
        "- W3R (corrected airflow compressor exits) defaults to 3 but can vary between 2 and 8\n",
        "- ratio (ratio between corrected airflow nozzle exits and design engine) defaults to 1100 but can vary between 800 and 1500\n",
        "\n",
        "One can also customize the sensors from which we want measurements as in the previous step. Default to P3, T4 and W5R"
      ]
    },
    {
      "cell_type": "code",
      "execution_count": 22,
      "metadata": {
        "id": "anO-twzYR0qn"
      },
      "outputs": [],
      "source": [
        "S = [\"P3\", \"T5\", \"F\", \"Wf\"]"
      ]
    },
    {
      "cell_type": "code",
      "execution_count": 23,
      "metadata": {
        "id": "r9WGCm2GR0qn"
      },
      "outputs": [],
      "source": [
        "measurements = h_SCSF([[1,1], [0.99, 0.99], [0.98,0.98]], S=S)"
      ]
    },
    {
      "cell_type": "code",
      "execution_count": 24,
      "metadata": {
        "colab": {
          "base_uri": "https://localhost:8080/"
        },
        "id": "8xcHse86R0qn",
        "outputId": "a80f5083-cc9c-42a8-873b-2976aaab8000"
      },
      "outputs": [
        {
          "output_type": "execute_result",
          "data": {
            "text/plain": [
              "array([[1.90110390e+06, 1.47916499e+03, 4.18657661e+01, 1.49434783e+00],\n",
              "       [1.90261306e+06, 1.51408029e+03, 4.10181904e+01, 1.52675788e+00],\n",
              "       [1.90448014e+06, 1.55057089e+03, 4.01772825e+01, 1.56042149e+00]])"
            ]
          },
          "metadata": {},
          "execution_count": 24
        }
      ],
      "source": [
        "measurements"
      ]
    },
    {
      "cell_type": "code",
      "execution_count": 25,
      "metadata": {
        "id": "xold1HXrR0qn"
      },
      "outputs": [],
      "source": [
        "measurements_lowN = h_SCSF([[1,1], [0.99, 0.99], [0.98,0.98]], S=S, N=0.7)"
      ]
    },
    {
      "cell_type": "code",
      "execution_count": 26,
      "metadata": {
        "colab": {
          "base_uri": "https://localhost:8080/"
        },
        "id": "f1i8R4oIR0qn",
        "outputId": "bcae2da1-7c77-487c-9e99-b68960eec0b8"
      },
      "outputs": [
        {
          "output_type": "execute_result",
          "data": {
            "text/plain": [
              "array([[6.04065889e+05, 8.14522884e+02, 1.52541322e+01, 2.39168355e-01],\n",
              "       [5.98025231e+05, 8.24723360e+02, 1.49222105e+01, 2.42147442e-01],\n",
              "       [5.91984572e+05, 8.35148894e+02, 1.45938363e+01, 2.45137917e-01]])"
            ]
          },
          "metadata": {},
          "execution_count": 26
        }
      ],
      "source": [
        "measurements_lowN"
      ]
    },
    {
      "cell_type": "markdown",
      "metadata": {
        "id": "nZziJTxhR0qn"
      },
      "source": [
        "# Degradation Scenario"
      ]
    },
    {
      "cell_type": "markdown",
      "metadata": {
        "id": "44UMqTvBR0qo"
      },
      "source": [
        "In the following, we introduce the degradation scenario available at the moment. More scenarios will be added as they are implemented."
      ]
    },
    {
      "cell_type": "markdown",
      "metadata": {
        "id": "5TrJxG8AR0qo"
      },
      "source": [
        "As for the turboreactor, we created a class Scenario. One must specify the speed of the degradation, it can be fast or slow, and which health indicators are concerned, it can be the combustion chamber, the compressor or both. The speed of the degradation decides the drop in values at which the parameters degrades at each step. The values of the drop can be change directly in the scenarios.py files. At the moment, the degradation are completely deterministic but randomization will be added in the future."
      ]
    },
    {
      "cell_type": "code",
      "execution_count": 27,
      "metadata": {
        "id": "fWNbzQR_R0qo"
      },
      "outputs": [],
      "source": [
        "slow_scenario = Scenario(\"slow\", \"both\")\n",
        "list_degradation_compressor, list_degradation_turbine = slow_scenario.generate_degradation(20,1,1)"
      ]
    },
    {
      "cell_type": "code",
      "execution_count": 28,
      "metadata": {
        "colab": {
          "base_uri": "https://localhost:8080/"
        },
        "id": "Y0ymwug1R0qo",
        "outputId": "e8fd8c5c-4c95-4839-dd5d-ec94f060f253"
      },
      "outputs": [
        {
          "output_type": "stream",
          "name": "stdout",
          "text": [
            "[1.0, 0.99995, 0.9999, 0.99985, 0.9998, 0.99975, 0.9997, 0.99965, 0.9996, 0.99955, 0.9995, 0.99945, 0.9994, 0.99935, 0.9993, 0.99925, 0.9992, 0.99915, 0.9991, 0.99905]\n"
          ]
        }
      ],
      "source": [
        "print(list_degradation_compressor)"
      ]
    },
    {
      "cell_type": "code",
      "source": [],
      "metadata": {
        "id": "LhOXTBiiT2Wh"
      },
      "execution_count": 28,
      "outputs": []
    }
  ],
  "metadata": {
    "kernelspec": {
      "display_name": "jupyter_linux",
      "language": "python",
      "name": "python3"
    },
    "language_info": {
      "codemirror_mode": {
        "name": "ipython",
        "version": 3
      },
      "file_extension": ".py",
      "mimetype": "text/x-python",
      "name": "python",
      "nbconvert_exporter": "python",
      "pygments_lexer": "ipython3",
      "version": "3.11.6"
    },
    "colab": {
      "provenance": []
    }
  },
  "nbformat": 4,
  "nbformat_minor": 0
}